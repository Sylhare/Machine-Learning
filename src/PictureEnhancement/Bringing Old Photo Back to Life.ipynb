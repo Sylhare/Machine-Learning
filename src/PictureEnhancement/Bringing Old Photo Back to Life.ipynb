{
 "cells": [
  {
   "cell_type": "markdown",
   "metadata": {
    "id": "Vkkr1Sq6t2lM"
   },
   "source": [
    "# ◢ Bringing Old Photos Back to Life"
   ]
  },
  {
   "cell_type": "markdown",
   "metadata": {
    "id": "ypb6kal06Tb1"
   },
   "source": [
    "This is a reference implementation of our CVPR 2020 paper [1], which  revives an old photo to modern style. Should you be making use of our work, please cite our paper [1]."
   ]
  },
  {
   "cell_type": "markdown",
   "metadata": {
    "id": "IwXBx7z6rfXK"
   },
   "source": [
    "\n",
    "\n",
    "---\n",
    "\n",
    "\n",
    "# ◢ Verify Runtime Settings\n",
    "\n",
    "**<font color='#FF000'> IMPORTANT </font>**\n",
    "\n",
    "In the \"Runtime\" menu for the notebook window, select \"Change runtime type.\" Ensure that the following are selected:\n",
    "* Runtime Type = Python 3\n",
    "* Hardware Accelerator = GPU \n"
   ]
  },
  {
   "cell_type": "markdown",
   "metadata": {
    "id": "ZMZ2EAlBrvkq"
   },
   "source": [
    "# ◢ Git clone\n"
   ]
  },
  {
   "cell_type": "code",
   "execution_count": null,
   "metadata": {
    "colab": {
     "base_uri": "https://localhost:8080/",
     "height": 138
    },
    "executionInfo": {
     "elapsed": 2556,
     "status": "ok",
     "timestamp": 1600438487538,
     "user": {
      "displayName": "Bo Zhang",
      "photoUrl": "",
      "userId": "14454056311632643408"
     },
     "user_tz": -480
    },
    "id": "69H2guBfrzqu",
    "outputId": "e879bb3d-e663-4d98-bb3e-ef26202382ab"
   },
   "outputs": [],
   "source": [
    "!git clone https://github.com/microsoft/Bringing-Old-Photos-Back-to-Life.git photo_restoration"
   ]
  },
  {
   "cell_type": "markdown",
   "metadata": {
    "id": "Ubc05fcKzk90"
   },
   "source": [
    "# ◢ Set up the environment\n"
   ]
  },
  {
   "cell_type": "code",
   "execution_count": null,
   "metadata": {
    "colab": {
     "base_uri": "https://localhost:8080/",
     "height": 1000
    },
    "executionInfo": {
     "elapsed": 320685,
     "status": "ok",
     "timestamp": 1600438805733,
     "user": {
      "displayName": "Bo Zhang",
      "photoUrl": "",
      "userId": "14454056311632643408"
     },
     "user_tz": -480
    },
    "id": "32jCofdSr8AW",
    "outputId": "ef1694cf-1454-4c32-c4c0-7b5650643563"
   },
   "outputs": [],
   "source": [
    "# pull the syncBN repo\n",
    "%cd photo_restoration/Face_Enhancement/models/networks\n",
    "!git clone https://github.com/vacancy/Synchronized-BatchNorm-PyTorch\n",
    "!cp -rf Synchronized-BatchNorm-PyTorch/sync_batchnorm .\n",
    "%cd ../../../\n",
    "\n",
    "%cd Global/detection_models\n",
    "!git clone https://github.com/vacancy/Synchronized-BatchNorm-PyTorch\n",
    "!cp -rf Synchronized-BatchNorm-PyTorch/sync_batchnorm .\n",
    "%cd ../../\n",
    "\n",
    "# download the landmark detection model\n",
    "%cd Face_Detection/\n",
    "!wget http://dlib.net/files/shape_predictor_68_face_landmarks.dat.bz2\n",
    "!bzip2 -d shape_predictor_68_face_landmarks.dat.bz2\n",
    "%cd ../\n",
    "\n",
    "# download the pretrained model\n",
    "%cd Face_Enhancement/\n",
    "!wget https://facevc.blob.core.windows.net/zhanbo/old_photo/pretrain/Face_Enhancement/checkpoints.zip\n",
    "!unzip checkpoints.zip\n",
    "%cd ../\n",
    "\n",
    "%cd Global/\n",
    "!wget https://facevc.blob.core.windows.net/zhanbo/old_photo/pretrain/Global/checkpoints.zip\n",
    "!unzip checkpoints.zip\n",
    "%cd ../"
   ]
  },
  {
   "cell_type": "code",
   "execution_count": null,
   "metadata": {
    "colab": {
     "base_uri": "https://localhost:8080/",
     "height": 435
    },
    "executionInfo": {
     "elapsed": 323088,
     "status": "ok",
     "timestamp": 1600438808154,
     "user": {
      "displayName": "Bo Zhang",
      "photoUrl": "",
      "userId": "14454056311632643408"
     },
     "user_tz": -480
    },
    "id": "B3v8tvmtw85c",
    "outputId": "2634b8f2-678f-4a5e-f8a4-a2e43af77cfe"
   },
   "outputs": [],
   "source": [
    "!pip install -r requirements.txt"
   ]
  },
  {
   "cell_type": "code",
   "execution_count": null,
   "metadata": {},
   "outputs": [],
   "source": [
    "%pwd"
   ]
  },
  {
   "cell_type": "markdown",
   "metadata": {
    "id": "soHBzgRU8rPY"
   },
   "source": [
    "# ◢ Run the code"
   ]
  },
  {
   "cell_type": "markdown",
   "metadata": {
    "id": "EVpoONmCcJDt"
   },
   "source": [
    "### Restore photos (normal mode)"
   ]
  },
  {
   "cell_type": "code",
   "execution_count": null,
   "metadata": {
    "colab": {
     "base_uri": "https://localhost:8080/",
     "height": 869
    },
    "executionInfo": {
     "elapsed": 399538,
     "status": "ok",
     "timestamp": 1600438884615,
     "user": {
      "displayName": "Bo Zhang",
      "photoUrl": "",
      "userId": "14454056311632643408"
     },
     "user_tz": -480
    },
    "id": "q6lNy6jw5rjd",
    "outputId": "fba9ad1f-e469-4b9e-99a5-a62518135f1f"
   },
   "outputs": [],
   "source": [
    "input_folder = \"/test_images/old\"\n",
    "output_folder = \"/output\"\n",
    "\n",
    "import os\n",
    "basepath = os.getcwd()\n",
    "input_path = os.path.join(basepath, input_folder)\n",
    "output_path = os.path.join(basepath, output_folder)\n",
    "#os.mkdir(output_path)\n",
    "#os.chmod(output_path, 0o777)  # read/write by everyone\n",
    "\n",
    "!python run.py --input_folder /test_images/old --output_folder /output/ --GPU 0"
   ]
  },
  {
   "cell_type": "code",
   "execution_count": null,
   "metadata": {
    "id": "6yeeDiM4exHz"
   },
   "outputs": [],
   "source": [
    "import io\n",
    "import IPython.display\n",
    "import numpy as np\n",
    "import PIL.Image\n",
    "\n",
    "def imshow(a, format='png', jpeg_fallback=True):\n",
    "    a = np.asarray(a, dtype=np.uint8)\n",
    "    data = io.BytesIO()\n",
    "    PIL.Image.fromarray(a).save(data, format)\n",
    "    im_data = data.getvalue()\n",
    "    try:\n",
    "      disp = IPython.display.display(IPython.display.Image(im_data))\n",
    "    except IOError:\n",
    "      if jpeg_fallback and format != 'jpeg':\n",
    "        print(('Warning: image was too large to display in format \"{}\"; '\n",
    "              'trying jpeg instead.').format(format))\n",
    "        return imshow(a, format='jpeg')\n",
    "      else:\n",
    "        raise\n",
    "    return disp\n",
    "\n",
    "def make_grid(I1, I2, resize=True):\n",
    "    I1 = np.asarray(I1)\n",
    "    H, W = I1.shape[0], I1.shape[1]\n",
    "    \n",
    "    if I1.ndim >= 3:\n",
    "        I2 = np.asarray(I2.resize((W,H)))\n",
    "        I_combine = np.zeros((H,W*2,3))\n",
    "        I_combine[:,:W,:] = I1[:,:,:3]\n",
    "        I_combine[:,W:,:] = I2[:,:,:3]\n",
    "    else:\n",
    "        I2 = np.asarray(I2.resize((W,H)).convert('L'))\n",
    "        I_combine = np.zeros((H,W*2))\n",
    "        I_combine[:,:W] = I1[:,:]\n",
    "        I_combine[:,W:] = I2[:,:]\n",
    "    I_combine = PIL.Image.fromarray(np.uint8(I_combine))\n",
    "\n",
    "    W_base = 600\n",
    "    if resize:\n",
    "      ratio = W_base / (W*2)\n",
    "      H_new = int(H * ratio)\n",
    "      I_combine = I_combine.resize((W_base, H_new), PIL.Image.LANCZOS)\n",
    "\n",
    "    return I_combine"
   ]
  },
  {
   "cell_type": "code",
   "execution_count": null,
   "metadata": {
    "colab": {
     "base_uri": "https://localhost:8080/",
     "height": 1000
    },
    "executionInfo": {
     "elapsed": 404351,
     "status": "ok",
     "timestamp": 1600438889434,
     "user": {
      "displayName": "Bo Zhang",
      "photoUrl": "",
      "userId": "14454056311632643408"
     },
     "user_tz": -480
    },
    "id": "u_Eo4Hjti7Nh",
    "outputId": "cdb22d54-6974-4d2f-e619-64f440946cd6"
   },
   "outputs": [],
   "source": [
    "filenames = os.listdir(os.path.join(input_path))\n",
    "filenames.sort()\n",
    "\n",
    "for filename in filenames:\n",
    "    print(filename)\n",
    "    image_original = PIL.Image.open(os.path.join(input_path, filename))\n",
    "    image_restore = PIL.Image.open(os.path.join(output_path, 'final_output', filename))\n",
    "\n",
    "    display(make_grid(image_original, image_restore))"
   ]
  },
  {
   "cell_type": "markdown",
   "metadata": {
    "id": "tSUF96UgTuwd"
   },
   "source": [
    "### Restore the photos with scratches"
   ]
  },
  {
   "cell_type": "code",
   "execution_count": null,
   "metadata": {
    "colab": {
     "base_uri": "https://localhost:8080/",
     "height": 817
    },
    "executionInfo": {
     "elapsed": 448856,
     "status": "ok",
     "timestamp": 1600438933963,
     "user": {
      "displayName": "Bo Zhang",
      "photoUrl": "",
      "userId": "14454056311632643408"
     },
     "user_tz": -480
    },
    "id": "K-yb3lO5T8aM",
    "outputId": "98201ae8-ba6f-4e84-a415-10947cc63b6c"
   },
   "outputs": [],
   "source": [
    "!rm -rf /content/photo_restoration/output/*\n",
    "!python run.py --input_folder /content/photo_restoration/test_images/old_w_scratch/ --output_folder /content/photo_restoration/output/ --GPU 0 --with_scratch"
   ]
  },
  {
   "cell_type": "code",
   "execution_count": null,
   "metadata": {
    "colab": {
     "base_uri": "https://localhost:8080/",
     "height": 1000
    },
    "executionInfo": {
     "elapsed": 450389,
     "status": "ok",
     "timestamp": 1600438935500,
     "user": {
      "displayName": "Bo Zhang",
      "photoUrl": "",
      "userId": "14454056311632643408"
     },
     "user_tz": -480
    },
    "id": "dSSORPEMUSH0",
    "outputId": "49b19024-30bc-48ac-aa43-3288c86fb281"
   },
   "outputs": [],
   "source": [
    "input_folder = \"test_images/old_w_scratch\"\n",
    "output_folder = \"output\"\n",
    "input_path = os.path.join(basepath, input_folder)\n",
    "output_path = os.path.join(basepath, output_folder)\n",
    "\n",
    "filenames = os.listdir(os.path.join(input_path))\n",
    "filenames.sort()\n",
    "\n",
    "for filename in filenames:\n",
    "    print(filename)\n",
    "    image_original = PIL.Image.open(os.path.join(input_path, filename))\n",
    "    image_restore = PIL.Image.open(os.path.join(output_path, 'final_output', filename))\n",
    "\n",
    "    display(make_grid(image_original, image_restore))"
   ]
  },
  {
   "cell_type": "markdown",
   "metadata": {
    "id": "LMnje_NWj24x"
   },
   "source": [
    "# ◢ Try it on your own photos!"
   ]
  },
  {
   "cell_type": "code",
   "execution_count": null,
   "metadata": {
    "colab": {
     "base_uri": "https://localhost:8080/",
     "height": 142,
     "resources": {
      "http://localhost:8080/nbextensions/google.colab/files.js": {
       "data": "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",
       "headers": [
        [
         "content-type",
         "application/javascript"
        ]
       ],
       "ok": true,
       "status": 200,
       "status_text": ""
      }
     }
    },
    "executionInfo": {
     "elapsed": 33849,
     "status": "ok",
     "timestamp": 1600439324181,
     "user": {
      "displayName": "Bo Zhang",
      "photoUrl": "",
      "userId": "14454056311632643408"
     },
     "user_tz": -480
    },
    "id": "8Vov9hg957-D",
    "outputId": "b68bfecd-73ad-4367-ffdb-1f1a78a72634"
   },
   "outputs": [],
   "source": [
    "from google.colab import files\n",
    "import shutil\n",
    "\n",
    "upload_path = os.path.join(basepath, \"test_images\", \"upload\")\n",
    "upload_output_path = os.path.join(basepath, \"upload_output\")\n",
    "\n",
    "if os.path.isdir(upload_output_path):\n",
    "    shutil.rmtree(upload_output_path)\n",
    "\n",
    "if os.path.isdir(upload_path):\n",
    "    shutil.rmtree(upload_path)\n",
    "\n",
    "os.mkdir(upload_output_path)\n",
    "os.mkdir(upload_path)\n",
    "\n",
    "uploaded = files.upload()\n",
    "for filename in uploaded.keys():\n",
    "    shutil.move(os.path.join(basepath, filename), os.path.join(upload_path, filename))"
   ]
  },
  {
   "cell_type": "markdown",
   "metadata": {
    "id": "cy9vSWTHMH5U"
   },
   "source": [
    "Run the processing with:"
   ]
  },
  {
   "cell_type": "code",
   "execution_count": null,
   "metadata": {
    "colab": {
     "base_uri": "https://localhost:8080/",
     "height": 609
    },
    "executionInfo": {
     "elapsed": 25126,
     "status": "ok",
     "timestamp": 1600439404745,
     "user": {
      "displayName": "Bo Zhang",
      "photoUrl": "",
      "userId": "14454056311632643408"
     },
     "user_tz": -480
    },
    "id": "EgRUwTqsjr7m",
    "outputId": "da232e16-75ff-4382-e959-aff6ffa385c5"
   },
   "outputs": [],
   "source": [
    "!python run.py --input_folder /content/photo_restoration/test_images/upload --output_folder /content/photo_restoration/upload_output --GPU 0"
   ]
  },
  {
   "cell_type": "markdown",
   "metadata": {
    "id": "_lEXtwXpLl1L"
   },
   "source": [
    "### Visualize\n",
    "\n",
    "Now you have all your results under the folder `upload_output` and you can *manually* right click and download them.\n",
    "\n",
    "Here we use the child photos of celebrities from https://www.boredpanda.com/childhood-celebrities-when-they-were-young-kids/?utm_source=google&utm_medium=organic&utm_campaign=organic "
   ]
  },
  {
   "cell_type": "code",
   "execution_count": null,
   "metadata": {
    "colab": {
     "base_uri": "https://localhost:8080/",
     "height": 1000
    },
    "executionInfo": {
     "elapsed": 2996,
     "status": "ok",
     "timestamp": 1600439410687,
     "user": {
      "displayName": "Bo Zhang",
      "photoUrl": "",
      "userId": "14454056311632643408"
     },
     "user_tz": -480
    },
    "id": "KvqDOPXnLmkl",
    "outputId": "1389c439-0dd4-4442-e173-ae41a9ced297"
   },
   "outputs": [],
   "source": [
    "filenames_upload = os.listdir(os.path.join(upload_path))\n",
    "filenames_upload.sort()\n",
    "\n",
    "filenames_upload_output = os.listdir(os.path.join(upload_output_path, \"final_output\"))\n",
    "filenames_upload_output.sort()\n",
    "\n",
    "for filename, filename_output in zip(filenames_upload, filenames_upload_output):\n",
    "    image_original = PIL.Image.open(os.path.join(upload_path, filename))\n",
    "    image_restore = PIL.Image.open(os.path.join(upload_output_path, \"final_output\", filename_output))\n",
    "\n",
    "    display(make_grid(image_original, image_restore))\n",
    "    print(\"\")"
   ]
  },
  {
   "cell_type": "markdown",
   "metadata": {
    "id": "T2B75ztFYnnK"
   },
   "source": [
    "## Download your results\n",
    "\n"
   ]
  },
  {
   "cell_type": "code",
   "execution_count": null,
   "metadata": {
    "colab": {
     "base_uri": "https://localhost:8080/",
     "height": 34
    },
    "executionInfo": {
     "elapsed": 727,
     "status": "ok",
     "timestamp": 1600439453955,
     "user": {
      "displayName": "Bo Zhang",
      "photoUrl": "",
      "userId": "14454056311632643408"
     },
     "user_tz": -480
    },
    "id": "0pJxB6p1R1jE",
    "outputId": "f05c4f8d-c13d-4b43-8257-8d633b3a53cb"
   },
   "outputs": [],
   "source": [
    "output_folder = os.path.join(upload_output_path, \"final_output\")\n",
    "print(output_folder)\n",
    "os.system(f\"zip -r -j download.zip {output_folder}/*\")\n",
    "files.download(\"download.zip\")"
   ]
  },
  {
   "cell_type": "code",
   "execution_count": null,
   "metadata": {
    "id": "tdFXuH9qd5u9"
   },
   "outputs": [],
   "source": []
  }
 ],
 "metadata": {
  "accelerator": "GPU",
  "colab": {
   "collapsed_sections": [],
   "name": "Copie de Bringing Old Photo Back to Life.ipynb",
   "provenance": [
    {
     "file_id": "1NEm6AsybIiC5TwTU_4DqDkQO0nFRB-uA",
     "timestamp": 1602510982169
    }
   ],
   "toc_visible": true
  },
  "kernelspec": {
   "display_name": "Python 3",
   "language": "python",
   "name": "python3"
  },
  "language_info": {
   "codemirror_mode": {
    "name": "ipython",
    "version": 3
   },
   "file_extension": ".py",
   "mimetype": "text/x-python",
   "name": "python",
   "nbconvert_exporter": "python",
   "pygments_lexer": "ipython3",
   "version": "3.7.7"
  }
 },
 "nbformat": 4,
 "nbformat_minor": 1
}
